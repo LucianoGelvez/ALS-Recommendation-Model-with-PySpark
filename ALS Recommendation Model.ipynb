{
 "cells": [
  {
   "cell_type": "code",
   "execution_count": 1,
   "id": "e57a047e",
   "metadata": {},
   "outputs": [],
   "source": [
    "from pyspark.sql import SparkSession"
   ]
  },
  {
   "cell_type": "code",
   "execution_count": 2,
   "id": "b0084fb0",
   "metadata": {},
   "outputs": [
    {
     "name": "stderr",
     "output_type": "stream",
     "text": [
      "25/01/10 08:12:38 WARN SparkSession: Using an existing Spark session; only runtime SQL configurations will take effect.\n"
     ]
    }
   ],
   "source": [
    "spark = SparkSession.builder.appName('rec').getOrCreate()"
   ]
  },
  {
   "cell_type": "code",
   "execution_count": 4,
   "id": "68f3dcf0",
   "metadata": {},
   "outputs": [],
   "source": [
    "from pyspark.ml.recommendation import ALS"
   ]
  },
  {
   "cell_type": "code",
   "execution_count": 6,
   "id": "e5a24ea2",
   "metadata": {},
   "outputs": [],
   "source": [
    "from pyspark.ml.evaluation import RegressionEvaluator"
   ]
  },
  {
   "cell_type": "code",
   "execution_count": 7,
   "id": "9774ad01",
   "metadata": {},
   "outputs": [
    {
     "name": "stderr",
     "output_type": "stream",
     "text": [
      "                                                                                \r"
     ]
    }
   ],
   "source": [
    "data = spark.read.csv('movielens_ratings.csv', inferSchema=True, header=True)"
   ]
  },
  {
   "cell_type": "code",
   "execution_count": 8,
   "id": "2e82c9e4",
   "metadata": {},
   "outputs": [
    {
     "data": {
      "text/plain": [
       "[Row(movieId=2, rating=3.0, userId=0)]"
      ]
     },
     "execution_count": 8,
     "metadata": {},
     "output_type": "execute_result"
    }
   ],
   "source": [
    "data.head(1)"
   ]
  },
  {
   "cell_type": "code",
   "execution_count": 13,
   "id": "6499712f",
   "metadata": {},
   "outputs": [
    {
     "name": "stdout",
     "output_type": "stream",
     "text": [
      "+-------+------------------+------------------+------------------+\n",
      "|summary|           movieId|            rating|            userId|\n",
      "+-------+------------------+------------------+------------------+\n",
      "|  count|              1501|              1501|              1501|\n",
      "|   mean| 49.40572951365756|1.7741505662891406|14.383744170552964|\n",
      "| stddev|28.937034065088994| 1.187276166124803| 8.591040424293272|\n",
      "|    min|                 0|               1.0|                 0|\n",
      "|    max|                99|               5.0|                29|\n",
      "+-------+------------------+------------------+------------------+\n",
      "\n"
     ]
    }
   ],
   "source": [
    "data.describe().show()"
   ]
  },
  {
   "cell_type": "code",
   "execution_count": 22,
   "id": "c09c0206",
   "metadata": {},
   "outputs": [],
   "source": [
    "training, test = data.randomSplit([0.8,0.2])"
   ]
  },
  {
   "cell_type": "code",
   "execution_count": 23,
   "id": "0eea7fe2",
   "metadata": {},
   "outputs": [],
   "source": [
    "als = ALS(maxIter= 5, userCol='userId', itemCol='movieId', ratingCol='rating')"
   ]
  },
  {
   "cell_type": "code",
   "execution_count": 24,
   "id": "45b38318",
   "metadata": {},
   "outputs": [],
   "source": [
    "model = als.fit(training)"
   ]
  },
  {
   "cell_type": "code",
   "execution_count": 25,
   "id": "04970e08",
   "metadata": {},
   "outputs": [],
   "source": [
    "predictions = model.transform(test)"
   ]
  },
  {
   "cell_type": "code",
   "execution_count": 27,
   "id": "15b3f0b7",
   "metadata": {},
   "outputs": [
    {
     "name": "stdout",
     "output_type": "stream",
     "text": [
      "+-------+------+------+----------+\n",
      "|movieId|rating|userId|prediction|\n",
      "+-------+------+------+----------+\n",
      "|      2|   4.0|    28| 1.2507821|\n",
      "|      7|   1.0|    28| 2.1080952|\n",
      "|      1|   1.0|    26|0.47395125|\n",
      "|      3|   1.0|    26| 1.1830662|\n",
      "|      4|   1.0|    12| 1.3890378|\n",
      "|      3|   2.0|    22| 1.1688485|\n",
      "|      1|   1.0|     6| 0.9500195|\n",
      "|      4|   1.0|     5| 1.8740482|\n",
      "|      2|   3.0|     9| 2.0168698|\n",
      "|      3|   1.0|    17|   1.26727|\n",
      "|      4|   1.0|     9| 1.5125542|\n",
      "|      0|   1.0|     8| 1.4125558|\n",
      "|      7|   1.0|     8|0.99924356|\n",
      "|      2|   4.0|    10| 1.5855509|\n",
      "|      2|   1.0|    25|0.98678195|\n",
      "|      7|   1.0|    25| 1.1938453|\n",
      "|      7|   1.0|    24| 1.9656888|\n",
      "|      4|   1.0|    29| 1.6397057|\n",
      "|      2|   4.0|    21| 2.3725717|\n",
      "|      6|   2.0|    11| 2.0527475|\n",
      "+-------+------+------+----------+\n",
      "only showing top 20 rows\n",
      "\n"
     ]
    }
   ],
   "source": [
    "predictions.show()"
   ]
  },
  {
   "cell_type": "code",
   "execution_count": 30,
   "id": "4de78aa9",
   "metadata": {},
   "outputs": [],
   "source": [
    "evaluator = RegressionEvaluator(metricName='rmse', labelCol='rating', predictionCol='prediction')"
   ]
  },
  {
   "cell_type": "code",
   "execution_count": 31,
   "id": "e0acf894",
   "metadata": {},
   "outputs": [],
   "source": [
    "rmse = evaluator.evaluate(predictions)"
   ]
  },
  {
   "cell_type": "code",
   "execution_count": 32,
   "id": "6395fb15",
   "metadata": {},
   "outputs": [
    {
     "name": "stdout",
     "output_type": "stream",
     "text": [
      "RMSE\n",
      "1.0328213961070793\n"
     ]
    }
   ],
   "source": [
    "print('RMSE')\n",
    "print(rmse)"
   ]
  },
  {
   "cell_type": "code",
   "execution_count": 34,
   "id": "fb0c520a",
   "metadata": {},
   "outputs": [],
   "source": [
    "single_user = test.filter(test['userId']== 11).select(['movieId','userId'])"
   ]
  },
  {
   "cell_type": "code",
   "execution_count": 35,
   "id": "156e09e6",
   "metadata": {},
   "outputs": [
    {
     "name": "stdout",
     "output_type": "stream",
     "text": [
      "+-------+------+\n",
      "|movieId|userId|\n",
      "+-------+------+\n",
      "|      6|    11|\n",
      "|     12|    11|\n",
      "|     19|    11|\n",
      "|     23|    11|\n",
      "|     35|    11|\n",
      "|     39|    11|\n",
      "|     67|    11|\n",
      "|     71|    11|\n",
      "|     78|    11|\n",
      "|     88|    11|\n",
      "|     94|    11|\n",
      "+-------+------+\n",
      "\n"
     ]
    }
   ],
   "source": [
    "single_user.show()"
   ]
  },
  {
   "cell_type": "code",
   "execution_count": 36,
   "id": "c06354f0",
   "metadata": {},
   "outputs": [],
   "source": [
    "recomendation = model.transform(single_user)"
   ]
  },
  {
   "cell_type": "code",
   "execution_count": 38,
   "id": "a50efda3",
   "metadata": {},
   "outputs": [
    {
     "name": "stderr",
     "output_type": "stream",
     "text": [
      "\r",
      "[Stage 236:============================================>           (8 + 2) / 10]\r",
      "\r",
      "                                                                                \r"
     ]
    },
    {
     "name": "stdout",
     "output_type": "stream",
     "text": [
      "+-------+------+----------+\n",
      "|movieId|userId|prediction|\n",
      "+-------+------+----------+\n",
      "|     39|    11|  3.057804|\n",
      "|     23|    11| 2.9321082|\n",
      "|     19|    11| 2.7986448|\n",
      "|     94|    11| 2.5764356|\n",
      "|     35|    11| 2.5759428|\n",
      "|     88|    11| 2.1090224|\n",
      "|      6|    11| 2.0527475|\n",
      "|     71|    11| 1.9554276|\n",
      "|     67|    11| 1.1501582|\n",
      "|     78|    11| 1.0625054|\n",
      "|     12|    11| 0.7853823|\n",
      "+-------+------+----------+\n",
      "\n"
     ]
    }
   ],
   "source": [
    "recomendation.orderBy('prediction',ascending= False).show()"
   ]
  },
  {
   "cell_type": "code",
   "execution_count": null,
   "id": "58cc1b75",
   "metadata": {},
   "outputs": [],
   "source": []
  }
 ],
 "metadata": {
  "kernelspec": {
   "display_name": "Python 3 (ipykernel)",
   "language": "python",
   "name": "python3"
  },
  "language_info": {
   "codemirror_mode": {
    "name": "ipython",
    "version": 3
   },
   "file_extension": ".py",
   "mimetype": "text/x-python",
   "name": "python",
   "nbconvert_exporter": "python",
   "pygments_lexer": "ipython3",
   "version": "3.12.3"
  }
 },
 "nbformat": 4,
 "nbformat_minor": 5
}
